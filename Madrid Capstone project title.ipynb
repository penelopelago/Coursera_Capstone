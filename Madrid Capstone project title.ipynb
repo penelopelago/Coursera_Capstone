{
 "cells": [
  {
   "cell_type": "markdown",
   "metadata": {
    "collapsed": true
   },
   "source": [
    "# Capstone Project - The Battle of Neighborhoods (Week 1)\n",
    " \n",
    "Hello and welcome to this project. \n",
    "\n",
    "In this project we will learn about Madrid. Our client wants to open a Restaurant with a special menu for people who practice spors and cares about nutrition. The menu will have all the calories and macros information for every dish. We will offer our advice to find the proper location. The restaurtant will offer menues with prices within the average, therefore, our potential customers will cover a wide spectrum. A location with gym or fitness centers would be ideal. Also, it would be interesting to find an area where restaurant or food business proliferate.\n"
   ]
  },
  {
   "cell_type": "code",
   "execution_count": null,
   "metadata": {},
   "outputs": [],
   "source": []
  }
 ],
 "metadata": {
  "kernelspec": {
   "display_name": "Python 3.7",
   "language": "python",
   "name": "python3"
  },
  "language_info": {
   "codemirror_mode": {
    "name": "ipython",
    "version": 3
   },
   "file_extension": ".py",
   "mimetype": "text/x-python",
   "name": "python",
   "nbconvert_exporter": "python",
   "pygments_lexer": "ipython3",
   "version": "3.7.10"
  }
 },
 "nbformat": 4,
 "nbformat_minor": 1
}
